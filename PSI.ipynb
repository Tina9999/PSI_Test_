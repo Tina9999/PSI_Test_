{
 "cells": [
  {
   "cell_type": "code",
   "execution_count": 25,
   "id": "c481c7d0-7824-4e4a-81ef-63fff0e87f54",
   "metadata": {},
   "outputs": [],
   "source": [
    "#NOTE: The client numbers and categories are entirely fictional and created for the purpose of testing the functionality of the PSI\n",
    "#Importovanje biblioteka\n",
    "\n",
    "import pandas as pd\n",
    "import numpy as np\n",
    "from IPython.display import display, HTML\n",
    "import matplotlib.pyplot as plt\n",
    "import seaborn as sns"
   ]
  },
  {
   "cell_type": "code",
   "execution_count": 27,
   "id": "b644d80f-e470-472d-9ffd-c0b172e56e86",
   "metadata": {},
   "outputs": [],
   "source": [
    "#Ucitavanje excel fajla u kom je input test\n",
    "\n",
    "file_path = r'C:\\Users\\Korisnik\\Desktop\\PSI\\PSI_test.xlsx'\n",
    "df = pd.read_excel(file_path, sheet_name = 'Sheet1')"
   ]
  },
  {
   "cell_type": "code",
   "execution_count": 29,
   "id": "483aed4a-b9a8-4318-a167-3d1f1872a2f3",
   "metadata": {},
   "outputs": [
    {
     "name": "stdout",
     "output_type": "stream",
     "text": [
      "  Segment  Razvoj  Uzorak  Uzorak - Razvoj  ln(Uzorak/Razvoj)    Result\n",
      "0     AAA   0.000   0.000              0.0                NaN       NaN\n",
      "1      AA   0.039   0.033             -0.6          -0.167054  0.100232\n",
      "2       A   0.291   0.217             -7.4          -0.293426  2.171352\n",
      "3     BBB   0.264   0.251             -1.3          -0.050496  0.065645\n",
      "4      BB   0.307   0.279             -2.8          -0.095636  0.267781\n",
      "5       B   0.211   0.179             -3.2          -0.164472  0.526311\n",
      "6     CCC   0.059   0.074              1.5           0.226528  0.339791\n",
      "7      CC   0.041   0.039             -0.2          -0.050010  0.010002\n",
      "8       C   0.007   0.011              0.4           0.451985  0.180794\n",
      "9       D   0.000   0.009              0.9                inf       NaN\n"
     ]
    },
    {
     "data": {
      "text/html": [
       "<h4><b style = 'color: black; background-color: green; border: 1px solid black; padding: 3px;'> PSI test = 3.66%</b></h4>"
      ],
      "text/plain": [
       "<IPython.core.display.HTML object>"
      ]
     },
     "metadata": {},
     "output_type": "display_data"
    }
   ],
   "source": [
    "#PSI test\n",
    "\n",
    "df['Uzorak - Razvoj'] = (df['Uzorak'] - df['Razvoj']) * 100\n",
    "df['ln(Uzorak/Razvoj)'] = np.log(df['Uzorak']/df['Razvoj'])\n",
    "df['Result'] = df['Uzorak - Razvoj'] * df['ln(Uzorak/Razvoj)']\n",
    "\n",
    "df['Result'] = df['Result'].replace([np.inf, -np.inf], np.nan)\n",
    "psi = df['Result'].sum(skipna = True)\n",
    "\n",
    "if psi <= 10:\n",
    "    color = 'black'\n",
    "    background_color = 'green'\n",
    "elif 10 < psi <= 25:\n",
    "    color = 'black'\n",
    "    background_color = 'yellow'\n",
    "else: \n",
    "    color = 'black'\n",
    "    background_color = 'red'\n",
    "\n",
    "print(df)\n",
    "\n",
    "display(HTML(f\"<h4><b style = 'color: {color}; background-color: {background_color}; border: 1px solid black; padding: 3px;'> PSI test = {psi:.2f}%</b></h4>\"))\n"
   ]
  },
  {
   "cell_type": "code",
   "execution_count": null,
   "id": "a1f6be6a-6fcb-4baa-a3bd-efda717adef1",
   "metadata": {},
   "outputs": [],
   "source": []
  }
 ],
 "metadata": {
  "kernelspec": {
   "display_name": "Python [conda env:base] *",
   "language": "python",
   "name": "conda-base-py"
  },
  "language_info": {
   "codemirror_mode": {
    "name": "ipython",
    "version": 3
   },
   "file_extension": ".py",
   "mimetype": "text/x-python",
   "name": "python",
   "nbconvert_exporter": "python",
   "pygments_lexer": "ipython3",
   "version": "3.12.7"
  }
 },
 "nbformat": 4,
 "nbformat_minor": 5
}
